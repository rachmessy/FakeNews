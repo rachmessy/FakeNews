{
 "cells": [
  {
   "cell_type": "code",
   "execution_count": 1,
   "id": "28eb37c1-5f14-43b5-a219-f18fa0a4013d",
   "metadata": {},
   "outputs": [
    {
     "name": "stdout",
     "output_type": "stream",
     "text": [
      "Using mps\n"
     ]
    },
    {
     "name": "stderr",
     "output_type": "stream",
     "text": [
      "/Library/Frameworks/Python.framework/Versions/3.12/lib/python3.12/site-packages/torchtext/data/__init__.py:4: UserWarning: \n",
      "/!\\ IMPORTANT WARNING ABOUT TORCHTEXT STATUS /!\\ \n",
      "Torchtext is deprecated and the last released version will be 0.18 (this one). You can silence this warning by calling the following at the beginnign of your scripts: `import torchtext; torchtext.disable_torchtext_deprecation_warning()`\n",
      "  warnings.warn(torchtext._TORCHTEXT_DEPRECATION_MSG)\n",
      "/Library/Frameworks/Python.framework/Versions/3.12/lib/python3.12/site-packages/torchtext/vocab/__init__.py:4: UserWarning: \n",
      "/!\\ IMPORTANT WARNING ABOUT TORCHTEXT STATUS /!\\ \n",
      "Torchtext is deprecated and the last released version will be 0.18 (this one). You can silence this warning by calling the following at the beginnign of your scripts: `import torchtext; torchtext.disable_torchtext_deprecation_warning()`\n",
      "  warnings.warn(torchtext._TORCHTEXT_DEPRECATION_MSG)\n",
      "/Library/Frameworks/Python.framework/Versions/3.12/lib/python3.12/site-packages/torchtext/utils.py:4: UserWarning: \n",
      "/!\\ IMPORTANT WARNING ABOUT TORCHTEXT STATUS /!\\ \n",
      "Torchtext is deprecated and the last released version will be 0.18 (this one). You can silence this warning by calling the following at the beginnign of your scripts: `import torchtext; torchtext.disable_torchtext_deprecation_warning()`\n",
      "  warnings.warn(torchtext._TORCHTEXT_DEPRECATION_MSG)\n"
     ]
    }
   ],
   "source": [
    "# ---- LIBRARY IMPORTS ----\n",
    "import pandas as pd\n",
    "import re\n",
    "import nltk\n",
    "from nltk.corpus import stopwords\n",
    "from nltk.stem import WordNetLemmatizer\n",
    "from nltk.tokenize import word_tokenize\n",
    "from nltk import pos_tag\n",
    "import torch\n",
    "from torchtext.data.utils import get_tokenizer\n",
    "from torchtext.vocab import build_vocab_from_iterator\n",
    "from torch.nn.utils.rnn import pad_sequence\n",
    "from torch.utils.data import DataLoader\n",
    "import torch.nn as nn\n",
    "import torch.nn.functional as F\n",
    "import torch.optim as optim\n",
    "from sklearn.model_selection import train_test_split\n",
    "import time\n",
    "from datetime import timedelta\n",
    "\n",
    "# ---- DEVICE SET UP ----\n",
    "def get_gpu():\n",
    "    if torch.backends.mps.is_available():\n",
    "        print(\"Using mps\")\n",
    "        return \"mps\"\n",
    "    elif torch.backend.cuda.is_available():\n",
    "        print(\"Using cuda\")\n",
    "        return\"cuda\"\n",
    "    else:\n",
    "        print(\"Using CPU\")\n",
    "        return \"cpu\"\n",
    "device = get_gpu()"
   ]
  },
  {
   "cell_type": "markdown",
   "id": "5abb772a-86be-425e-bf89-40181898b342",
   "metadata": {},
   "source": [
    "# Cleaning Data"
   ]
  },
  {
   "cell_type": "code",
   "execution_count": 3,
   "id": "e0d6cd13-e73f-48a2-9cdb-cce9471542e3",
   "metadata": {},
   "outputs": [],
   "source": [
    "# ---- DATA IMPORT ----\n",
    "# Specify data types for each column\n",
    "dtypes = {0: \"UInt64\", 1: \"string\", 2: \"string\", \"3\": \"UInt64\"}\n",
    "\n",
    "# Import data\n",
    "data_raw = pd.read_csv('data/fake_news/news_data.csv', dtype=dtypes)\n",
    "\n",
    "# Remove NA values\n",
    "data_no_na = data_raw.dropna()\n",
    "\n",
    "# Drop columns \n",
    "data_drop_columns = data_no_na.drop(columns=['Unnamed: 0', 'title'])\n",
    "\n",
    "# Drop duplicate rows\n",
    "clean_data = data_drop_columns.drop_duplicates()"
   ]
  },
  {
   "cell_type": "code",
   "execution_count": 40,
   "id": "19e25f09-f3ac-4af4-9024-71f998fad80e",
   "metadata": {},
   "outputs": [
    {
     "name": "stderr",
     "output_type": "stream",
     "text": [
      "/var/folders/_6/9p8qltpj2857vgc46tfdmkfr0000gn/T/ipykernel_21314/3587278070.py:16: SettingWithCopyWarning: \n",
      "A value is trying to be set on a copy of a slice from a DataFrame.\n",
      "Try using .loc[row_indexer,col_indexer] = value instead\n",
      "\n",
      "See the caveats in the documentation: https://pandas.pydata.org/pandas-docs/stable/user_guide/indexing.html#returning-a-view-versus-a-copy\n",
      "  clean_data['text'] = clean_data['text'].apply(remove_stop_words)\n",
      "/var/folders/_6/9p8qltpj2857vgc46tfdmkfr0000gn/T/ipykernel_21314/3587278070.py:64: SettingWithCopyWarning: \n",
      "A value is trying to be set on a copy of a slice from a DataFrame.\n",
      "Try using .loc[row_indexer,col_indexer] = value instead\n",
      "\n",
      "See the caveats in the documentation: https://pandas.pydata.org/pandas-docs/stable/user_guide/indexing.html#returning-a-view-versus-a-copy\n",
      "  clean_data['text'] = clean_data['text'].apply(regex_cleaner)\n",
      "/var/folders/_6/9p8qltpj2857vgc46tfdmkfr0000gn/T/ipykernel_21314/3587278070.py:65: SettingWithCopyWarning: \n",
      "A value is trying to be set on a copy of a slice from a DataFrame.\n",
      "Try using .loc[row_indexer,col_indexer] = value instead\n",
      "\n",
      "See the caveats in the documentation: https://pandas.pydata.org/pandas-docs/stable/user_guide/indexing.html#returning-a-view-versus-a-copy\n",
      "  clean_data['text'] = clean_data['text'].apply(lambda x: pos_lemmatize(str(x)))\n"
     ]
    }
   ],
   "source": [
    "\"\"\"\n",
    "---- CLEANING TEXT DATA ----\n",
    "The following steps will be taken to clean data\n",
    "- all non-alphabetical data will be removed\n",
    "- all emails and web urls will be removed\n",
    "- all stop words will be removed based on the stop words in the ntlk dictionary\n",
    "- all text will be made lowercase\n",
    "\"\"\"\n",
    "\n",
    "# ---- REMOVING STOP WORDS ----\n",
    "stop_words = set(stopwords.words('english'))\n",
    "\n",
    "def remove_stop_words(text):\n",
    "    return ' '.join(word for word in text.split() if word not in stop_words)\n",
    "\n",
    "clean_data['text'] = clean_data['text'].apply(remove_stop_words)\n",
    "\n",
    "# --- LEMMATIZE THE TEXT ----\n",
    "lemmatizer = WordNetLemmatizer()\n",
    "\n",
    "def wordnet_pos(treebank_tag):\n",
    "    if treebank_tag.startswith('J'):\n",
    "        return 'a'\n",
    "    elif treebank_tag.startswith('V'):\n",
    "        return 'v' \n",
    "    elif treebank_tag.startswith('N'):\n",
    "        return 'n' \n",
    "    elif treebank_tag.startswith('R'):\n",
    "        return 'r'  \n",
    "    else:\n",
    "        return 'n'  \n",
    "\n",
    "# function to lemmatize words\n",
    "def pos_lemmatize(text):\n",
    "    tokens = word_tokenize(text)\n",
    "    pos_tags = pos_tag(tokens)\n",
    "    lemmatized_tokens = [lemmatizer.lemmatize(token, wordnet_pos(tag)) for token, tag in pos_tags]\n",
    "    return ' '.join(lemmatized_tokens)\n",
    "\n",
    "\n",
    "# Regex function to clean strings\n",
    "def regex_cleaner(text):\n",
    "    try:\n",
    "    # remove any web urls\n",
    "        text = re.sub(r'http\\S+|www\\S+|https\\S+', '', text, flags=re.MULTILINE) \n",
    "    # remove email addresses\n",
    "        text = re.sub(r'\\b\\w+@\\w+\\.\\w+\\b', '', text) \n",
    "    # Make all text lowercase\n",
    "        text_lowercase = text.lower()\n",
    "    # Remove all non-alphanumeric text\n",
    "        text_alphanumeric = re.sub(r'[^a-z\\s\\-]', '', text_lowercase)\n",
    "    # Combine words that overlap to a new line\n",
    "        no_overlap = re.sub(r'(\\-\\n)', '', text_alphanumeric)\n",
    "    # remove \\n and \"-\"\n",
    "        no_new_line = re.sub(r'[\\n\\-]', ' ', no_overlap)\n",
    "    # Remove extra spacing\n",
    "        clean_text = re.sub(r'\\s+', r' ', no_new_line)\n",
    "        return clean_text\n",
    "    except:\n",
    "        raise Exception(\"Something went wrong :(\")\n",
    "\n",
    "\n",
    "# Clean text data!\n",
    "clean_data['text'] = clean_data['text'].apply(regex_cleaner)\n",
    "clean_data['text'] = clean_data['text'].apply(lambda x: pos_lemmatize(str(x)))\n",
    "# Drop NA values if any\n",
    "clean_data = clean_data.dropna()"
   ]
  },
  {
   "cell_type": "code",
   "execution_count": 2,
   "id": "ad0426bb-f7e9-4279-9ae9-a471a490001f",
   "metadata": {
    "scrolled": true
   },
   "outputs": [],
   "source": [
    "# write to csv to avoid wait time with tokenization\n",
    "# clean_data.to_csv('data/fake_news/clean_news_data.csv', index=False)\n",
    "dypes = {'text': str, 'label': 'Int64'}\n",
    "clean_data = pd.read_csv(\"data/fake_news/clean_news_data.csv\", dtype=dypes)\n",
    "# Drop empty strings\n",
    "clean_data = clean_data.dropna()"
   ]
  },
  {
   "cell_type": "code",
   "execution_count": 3,
   "id": "44514224-7c1e-455f-99eb-340238498c12",
   "metadata": {},
   "outputs": [],
   "source": [
    "# split data into train, test sets\n",
    "\n",
    "train, test = train_test_split(clean_data, test_size=0.2, random_state=0)\n",
    "\n",
    "# Create an iterator object for train and test data\n",
    "\n",
    "data_iter = clean_data.iterrows()\n",
    "train_iter = train.iterrows()\n",
    "test_iter = test.iterrows()\n",
    "\n",
    "# Convert generators to list of tuples because DataLoader does not work well with pandas dataframes\n",
    "# Use this as inputs for DataLoader\n",
    "data_list_of_tuples = [(row.text, row.label) for index, row in data_iter]\n",
    "train_list_of_tuples = [(row.text, row.label) for index, row in train_iter]\n",
    "test_list_of_tuples = [(row.text, row.label) for index, row in test_iter]\n",
    "\n",
    "# Taken from pytorch documentation tutorials -> https://pytorch.org/tutorials/beginner/text_sentiment_ngrams_tutorial.html\n",
    "# tokenization for word sequences\n",
    "# No tokenizer is required as data was tokenized in previous step.  We only require tokenizer to split articles by word to create the sequences\n",
    "tokenizer = get_tokenizer(tokenizer=None)\n",
    "\n",
    "def yield_tokens(data):\n",
    "    # pull the text data from series to tokenize it\n",
    "    # Each row is a series when calling the iterrows() method, you must call the text column to pull its value\n",
    "    for index, row in data.iterrows():\n",
    "        text = row.text\n",
    "        yield tokenizer(text)\n",
    "\n",
    "# vocab_dict is now a function that takes a list of words as an input and returns integers based on the indexes found in the vocab_dict's dictionary\n",
    "# <unk> -> In case a word is not in vocab_dict, we default it to a special index for words not in vocab_dict\n",
    "vocab_dict = build_vocab_from_iterator(iterator=yield_tokens(clean_data), specials=[\"<unk>\"], max_tokens=10)\n",
    "vocab_dict.set_default_index(vocab_dict[\"<unk>\"])\n",
    "# text_sequencer is a function that takes a string and returns a list of integers based off vocab_dict\n",
    "text_sequencer = lambda string: vocab_dict(tokenizer(string))\n",
    "\n",
    "\n",
    "def collate_batch(batch):\n",
    "    \"\"\"\n",
    "    This function takes a batch created from the DataLoader function and does data preprocessing to it\n",
    "    \"\"\"\n",
    "    labels, text_tensors_list = [], []\n",
    "    for example in batch:\n",
    "    # Get data from pandas series\n",
    "        text = example[0]\n",
    "        label = example[1]\n",
    "    # convert text to sequences of integers\n",
    "        text_sequence = text_sequencer(text)\n",
    "    # convert text_sequence to tensor\n",
    "        text_sequence_tensor = torch.tensor(text_sequence, dtype=torch.int64)\n",
    "    # append tensors to lists\n",
    "        labels.append(label)\n",
    "        text_tensors_list.append(text_sequence_tensor)\n",
    "    # add padding of 0 to text_tensors (All articles have a different number of words and we want all tensors to be the same size)\n",
    "    text_tensors = pad_sequence(text_tensors_list, batch_first=True, padding_value = 0)\n",
    "    \n",
    "    # convert labels lists to tensor\n",
    "    labels_tensor = torch.tensor(labels, dtype=torch.int64)\n",
    "    return labels_tensor.to(device), text_tensors.to(device)"
   ]
  },
  {
   "cell_type": "markdown",
   "id": "49242fb0-15af-4910-9dac-148c29fa199e",
   "metadata": {},
   "source": [
    "# Model Building"
   ]
  },
  {
   "cell_type": "markdown",
   "id": "239bb4ff-9d94-4ffa-ba06-77aee32a7346",
   "metadata": {},
   "source": [
    "## RNN"
   ]
  },
  {
   "cell_type": "code",
   "execution_count": 4,
   "id": "af27de0d-e868-4ca4-985b-d1d7cd5ed681",
   "metadata": {},
   "outputs": [],
   "source": [
    "class RNN(nn.Module):\n",
    "    def __init__(self, input_size, hidden_size):\n",
    "        super(RNN, self).__init__()\n",
    "        self.hidden_size = hidden_size\n",
    "    # this converts your sequence of words to a vector to pass through the NN\n",
    "        self.word_sequence_to_embedding = nn.Embedding(num_embeddings=input_size, embedding_dim=3)\n",
    "        self.rnn = nn.RNN(3, hidden_size, 1, batch_first=True)\n",
    "        # self.hidden_layer_input = nn.Linear(in_features=10, out_features=hidden_size, bias=False)\n",
    "        # self.hidden_layer_previous = nn.Linear(in_features=hidden_size, out_features=hidden_size, bias=False)\n",
    "        self.hidden_layer_out = nn.Linear(in_features=hidden_size, out_features=1)\n",
    "        self.activation = nn.Sigmoid()\n",
    "\n",
    "    def forward(self, input_):\n",
    "        print(input_.shape)\n",
    "        sequence_embeddings = self.word_sequence_to_embedding(input_)\n",
    "        print(sequence_embeddings.shape)\n",
    "        hidden_initial = torch.zeros(1,sequence_embeddings.shape[0], self.hidden_size).to(device)\n",
    "        # print(sequence_embeddings.shape)\n",
    "        # hidden = F.tanh(self.hidden_layer_input(sequence_embeddings) + self.hidden_layer_previous(hidden))\n",
    "        output, hidden = self.rnn(sequence_embeddings, hidden_initial)\n",
    "        # print(hidden.shape)\n",
    "        output = self.hidden_layer_out(output)\n",
    "        print(output.shape)\n",
    "        output = output[:, -1, :]\n",
    "        output = self.activation(output)\n",
    "        print(output.shape)\n",
    "        return output, hidden\n",
    "\n",
    "    # def initHidden(self):\n",
    "    # # Return a matrix of 1 row and k columns where k=hidden_size\n",
    "    #     return torch.zeros(1, self.hidden_size)\n",
    "        "
   ]
  },
  {
   "cell_type": "code",
   "execution_count": 5,
   "id": "a6a97e8e-6d50-49d6-abf4-3b2221e86d74",
   "metadata": {},
   "outputs": [
    {
     "data": {
      "text/plain": [
       "RNN(\n",
       "  (word_sequence_to_embedding): Embedding(10, 3)\n",
       "  (rnn): RNN(3, 3, batch_first=True)\n",
       "  (hidden_layer_out): Linear(in_features=3, out_features=1, bias=True)\n",
       "  (activation): Sigmoid()\n",
       ")"
      ]
     },
     "execution_count": 5,
     "metadata": {},
     "output_type": "execute_result"
    }
   ],
   "source": [
    "# Initialize Model\n",
    "n_hidden = 3\n",
    "input_size = len(vocab_dict)\n",
    "rnn_model = RNN(input_size=input_size, hidden_size=n_hidden)\n",
    "rnn_model.to(device)"
   ]
  },
  {
   "cell_type": "markdown",
   "id": "4ed548a0-9400-414f-95e4-c5547aac794d",
   "metadata": {},
   "source": [
    "### Training"
   ]
  },
  {
   "cell_type": "code",
   "execution_count": 6,
   "id": "75ba5e39-fbbb-4e28-973e-cd51e31fddfe",
   "metadata": {},
   "outputs": [],
   "source": [
    "def get_labels(results):\n",
    "    decision = lambda val: 1 if val >= 0.5 else 0\n",
    "    labels = torch.where(results > 0.5, 1.0, 0.0)\n",
    "    return labels"
   ]
  },
  {
   "cell_type": "code",
   "execution_count": 7,
   "id": "0c1d8028-66b2-4792-ac57-97f0ea54d791",
   "metadata": {},
   "outputs": [],
   "source": [
    "train_loader = torch.utils.data.DataLoader(train_list_of_tuples, batch_size=4, shuffle=True, collate_fn=collate_batch)\n",
    "criterion = nn.BCELoss()\n",
    "optimizer = optim.SGD(rnn_model.parameters(), lr=0.001, momentum=0.9)\n",
    "\n",
    "# for input, label in train_loader:\n",
    "#     print(input)"
   ]
  },
  {
   "cell_type": "code",
   "execution_count": 8,
   "id": "783c8959-122b-43aa-9120-0efb2528de28",
   "metadata": {},
   "outputs": [],
   "source": [
    "epoch_iter = 2\n",
    "def rnn_train(model, dataloader, nbr_of_epochs,optimizer, criterion):\n",
    "    for epoch in range(epoch_iter):\n",
    "        # ---- MODEL TRAINING ----\n",
    "    # Put model in training mode\n",
    "        model.train()\n",
    "    # Start timer for trainig of epoch\n",
    "        start_time = time.perf_counter()\n",
    "    # Initalize the batch number currently being worked on\n",
    "        batch_nbr = 0\n",
    "    # Create loss variable for epoch\n",
    "        training_losses = 0.0\n",
    "    # Total examples labeld correctly in epoch\n",
    "        training_total_correct = 0.0\n",
    "    # Total number of examples in epoch\n",
    "        training_total_examples = 0.0\n",
    "    \n",
    "    # Create loss variable for epoch\n",
    "        testing_losses = 0.0\n",
    "    # Total examples labeld correctly in epoch\n",
    "        testing_total_correct = 0.0\n",
    "    # Total number of examples in epoch\n",
    "        testing_total_examples = 0.0\n",
    "    # Execute Forward, Backward, Optimization\n",
    "        for labels, inputs in train_loader:\n",
    "        # get the inputs; data is a list of [inputs, labels]\n",
    "            inputs, labels = inputs.to(device), labels.to(device)\n",
    "\n",
    "        # zero the parameter gradients\n",
    "            optimizer.zero_grad()\n",
    "    \n",
    "    # ---- FORWARD, BACKWARD, OPTIMIZE ----\n",
    "        # Get model training predictions\n",
    "            outputs, hidden = model(inputs)\n",
    "            outputs = torch.squeeze(outputs, 1)\n",
    "            print(outputs.shape)\n",
    "            \n",
    "        # Convert model training predictions to their respective classifications\n",
    "            predicted_labels = get_labels(outputs)\n",
    "            \n",
    "        # Compute Loss of current batch\n",
    "            loss = criterion(outputs, labels)\n",
    "        # remove outputs\n",
    "            del outputs\n",
    "        # Compute total number of correctly classified examples\n",
    "            nbr_of_correct_predictions = torch.sum(predicted_labels == labels).item()\n",
    "        # Grab batch size\n",
    "            total_nbr_of_elements = labels.shape[0]\n",
    "        # Compute number of correctly labeled examples and the total exampes\n",
    "            training_total_correct += nbr_of_correct_predictions\n",
    "            training_total_examples += total_nbr_of_elements\n",
    "    \n",
    "        # Backward pass\n",
    "            loss.backward()\n",
    "        # Update model params\n",
    "            optimizer.step()\n",
    "        # update training loss of epoch\n",
    "            training_losses += float(loss)*total_nbr_of_elements\n",
    "            del loss\n",
    "        #  update the current batch number of epoch\n",
    "            batch_nbr += 1\n",
    "        print(\"--- COMPLETED ONE EPOCH ----\")\n",
    "    # End training time\n",
    "    end_time = time.perf_counter()\n",
    "# Get total runntime of epoch\n",
    "    epoch_runtime = timedelta(seconds=end_time-start_time).total_seconds()\n",
    "    total_training_epoch_loss = round(training_losses/len(train_loader), 4)\n",
    "\n",
    "    result_dict = {\"training_loss\": total_training_epoch_loss, 'training_accuracy': training_accuracy, \"runtime\": epoch_runtime}\n",
    "    print(f'Epoch {epoch + 1}/{epoch_iter} <-> Runtime: {round(epoch_runtime, 0)}s <-> Training loss: {total_training_epoch_loss} <-> Training Accuracy: {training_accuracy} <-> Testing loss: {total_testing_epoch_loss} <-> Testing Accuracy: {testing_accuracy}')\n",
    "    print('\\nTraining Complete')"
   ]
  },
  {
   "cell_type": "code",
   "execution_count": null,
   "id": "b8ab423f-25b3-4d5b-a301-68f8fef6ae80",
   "metadata": {},
   "outputs": [],
   "source": [
    "rnn_train(rnn_model, train_loader,epoch_iter, optimizer, criterion)"
   ]
  },
  {
   "cell_type": "code",
   "execution_count": 3,
   "id": "30d3e068-fb57-48c3-9120-a08e210012fb",
   "metadata": {},
   "outputs": [
    {
     "ename": "NameError",
     "evalue": "name 'train_loader' is not defined",
     "output_type": "error",
     "traceback": [
      "\u001b[0;31m---------------------------------------------------------------------------\u001b[0m",
      "\u001b[0;31mNameError\u001b[0m                                 Traceback (most recent call last)",
      "Cell \u001b[0;32mIn[3], line 1\u001b[0m\n\u001b[0;32m----> 1\u001b[0m \u001b[38;5;28;01mfor\u001b[39;00m this, that \u001b[38;5;129;01min\u001b[39;00m \u001b[43mtrain_loader\u001b[49m:\n\u001b[1;32m      2\u001b[0m     \u001b[38;5;28mprint\u001b[39m(\u001b[38;5;28mtype\u001b[39m(this))\n\u001b[1;32m      3\u001b[0m     \u001b[38;5;28;01mbreak\u001b[39;00m\n",
      "\u001b[0;31mNameError\u001b[0m: name 'train_loader' is not defined"
     ]
    }
   ],
   "source": [
    "for this, that in train_loader:\n",
    "    print(type(this))\n",
    "    break"
   ]
  },
  {
   "cell_type": "markdown",
   "id": "f9f8481e-7bba-43cf-ba33-7b421d6b2398",
   "metadata": {},
   "source": [
    "## LSTM"
   ]
  },
  {
   "cell_type": "markdown",
   "id": "21273027-e634-4885-9c8f-0905d4ccda6b",
   "metadata": {},
   "source": [
    "# References\n",
    "[https://pytorch.org/tutorials/beginner/text_sentiment_ngrams_tutorial.html](https://pytorch.org/tutorials/beginner/text_sentiment_ngrams_tutorial.html)"
   ]
  },
  {
   "cell_type": "code",
   "execution_count": null,
   "id": "af13f60a-788f-4c11-b256-47103a8bb507",
   "metadata": {},
   "outputs": [],
   "source": []
  }
 ],
 "metadata": {
  "kernelspec": {
   "display_name": "Python 3 (ipykernel)",
   "language": "python",
   "name": "python3"
  },
  "language_info": {
   "codemirror_mode": {
    "name": "ipython",
    "version": 3
   },
   "file_extension": ".py",
   "mimetype": "text/x-python",
   "name": "python",
   "nbconvert_exporter": "python",
   "pygments_lexer": "ipython3",
   "version": "3.12.4"
  }
 },
 "nbformat": 4,
 "nbformat_minor": 5
}
