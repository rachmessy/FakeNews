{
 "cells": [
  {
   "cell_type": "code",
   "execution_count": 2,
   "id": "e9d66d31-be36-4496-ad6b-4c116e12340e",
   "metadata": {},
   "outputs": [
    {
     "name": "stdout",
     "output_type": "stream",
     "text": [
      "test\n"
     ]
    }
   ],
   "source": [
    "print('test')"
   ]
  },
  {
   "cell_type": "markdown",
   "id": "4336c2a2-f51d-458f-9b22-416c183fbde4",
   "metadata": {},
   "source": []
  },
  {
   "cell_type": "markdown",
   "id": "2f8c35dc-feed-4ca0-a636-af823d8fbe39",
   "metadata": {},
   "source": []
  }
 ],
 "metadata": {
  "authors": [
   {
    "name": "Rachel Messenger"
   },
   {
    "name": "Jason Caballes"
   }
  ],
  "kernelspec": {
   "display_name": "Python 3 (ipykernel)",
   "language": "python",
   "name": "python3"
  },
  "language_info": {
   "codemirror_mode": {
    "name": "ipython",
    "version": 3
   },
   "file_extension": ".py",
   "mimetype": "text/x-python",
   "name": "python",
   "nbconvert_exporter": "python",
   "pygments_lexer": "ipython3",
   "version": "3.12.4"
  },
  "title": "Group 13"
 },
 "nbformat": 4,
 "nbformat_minor": 5
}
