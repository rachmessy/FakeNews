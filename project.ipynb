{
 "cells": [
  {
   "cell_type": "code",
   "execution_count": 1,
   "metadata": {},
   "outputs": [
    {
     "name": "stdout",
     "output_type": "stream",
     "text": [
      "Requirement already satisfied: pandas in /home/rachel/miniconda3/envs/xx-pytorch/lib/python3.11/site-packages (2.2.2)\n",
      "Requirement already satisfied: numpy>=1.23.2 in /home/rachel/miniconda3/envs/xx-pytorch/lib/python3.11/site-packages (from pandas) (1.26.4)\n",
      "Requirement already satisfied: python-dateutil>=2.8.2 in /home/rachel/miniconda3/envs/xx-pytorch/lib/python3.11/site-packages (from pandas) (2.9.0.post0)\n",
      "Requirement already satisfied: pytz>=2020.1 in /home/rachel/miniconda3/envs/xx-pytorch/lib/python3.11/site-packages (from pandas) (2024.1)\n",
      "Requirement already satisfied: tzdata>=2022.7 in /home/rachel/miniconda3/envs/xx-pytorch/lib/python3.11/site-packages (from pandas) (2023.3)\n",
      "Requirement already satisfied: six>=1.5 in /home/rachel/miniconda3/envs/xx-pytorch/lib/python3.11/site-packages (from python-dateutil>=2.8.2->pandas) (1.16.0)\n",
      "Note: you may need to restart the kernel to use updated packages.\n"
     ]
    }
   ],
   "source": [
    "%pip install pandas\n"
   ]
  },
  {
   "cell_type": "code",
   "execution_count": 2,
   "metadata": {},
   "outputs": [
    {
     "name": "stdout",
     "output_type": "stream",
     "text": [
      "downloading finished\n"
     ]
    }
   ],
   "source": [
    "#downloading the data\n",
    "\n",
    "import requests\n",
    "\n",
    "url = 'https://zenodo.org/records/4561253/files/WELFake_Dataset.csv'  \n",
    "response = requests.get(url)\n",
    "\n",
    "with open('news_data.csv', 'wb') as file:\n",
    "    file.write(response.content)\n",
    "\n",
    "print(\"downloading finished\")"
   ]
  },
  {
   "cell_type": "code",
   "execution_count": 3,
   "metadata": {},
   "outputs": [
    {
     "data": {
      "text/html": [
       "<div>\n",
       "<style scoped>\n",
       "    .dataframe tbody tr th:only-of-type {\n",
       "        vertical-align: middle;\n",
       "    }\n",
       "\n",
       "    .dataframe tbody tr th {\n",
       "        vertical-align: top;\n",
       "    }\n",
       "\n",
       "    .dataframe thead th {\n",
       "        text-align: right;\n",
       "    }\n",
       "</style>\n",
       "<table border=\"1\" class=\"dataframe\">\n",
       "  <thead>\n",
       "    <tr style=\"text-align: right;\">\n",
       "      <th></th>\n",
       "      <th>Unnamed: 0</th>\n",
       "      <th>title</th>\n",
       "      <th>text</th>\n",
       "      <th>label</th>\n",
       "    </tr>\n",
       "  </thead>\n",
       "  <tbody>\n",
       "    <tr>\n",
       "      <th>0</th>\n",
       "      <td>0</td>\n",
       "      <td>LAW ENFORCEMENT ON HIGH ALERT Following Threat...</td>\n",
       "      <td>No comment is expected from Barack Obama Membe...</td>\n",
       "      <td>1</td>\n",
       "    </tr>\n",
       "    <tr>\n",
       "      <th>1</th>\n",
       "      <td>1</td>\n",
       "      <td>NaN</td>\n",
       "      <td>Did they post their votes for Hillary already?</td>\n",
       "      <td>1</td>\n",
       "    </tr>\n",
       "    <tr>\n",
       "      <th>2</th>\n",
       "      <td>2</td>\n",
       "      <td>UNBELIEVABLE! OBAMA’S ATTORNEY GENERAL SAYS MO...</td>\n",
       "      <td>Now, most of the demonstrators gathered last ...</td>\n",
       "      <td>1</td>\n",
       "    </tr>\n",
       "    <tr>\n",
       "      <th>3</th>\n",
       "      <td>3</td>\n",
       "      <td>Bobby Jindal, raised Hindu, uses story of Chri...</td>\n",
       "      <td>A dozen politically active pastors came here f...</td>\n",
       "      <td>0</td>\n",
       "    </tr>\n",
       "    <tr>\n",
       "      <th>4</th>\n",
       "      <td>4</td>\n",
       "      <td>SATAN 2: Russia unvelis an image of its terrif...</td>\n",
       "      <td>The RS-28 Sarmat missile, dubbed Satan 2, will...</td>\n",
       "      <td>1</td>\n",
       "    </tr>\n",
       "  </tbody>\n",
       "</table>\n",
       "</div>"
      ],
      "text/plain": [
       "   Unnamed: 0                                              title  \\\n",
       "0           0  LAW ENFORCEMENT ON HIGH ALERT Following Threat...   \n",
       "1           1                                                NaN   \n",
       "2           2  UNBELIEVABLE! OBAMA’S ATTORNEY GENERAL SAYS MO...   \n",
       "3           3  Bobby Jindal, raised Hindu, uses story of Chri...   \n",
       "4           4  SATAN 2: Russia unvelis an image of its terrif...   \n",
       "\n",
       "                                                text  label  \n",
       "0  No comment is expected from Barack Obama Membe...      1  \n",
       "1     Did they post their votes for Hillary already?      1  \n",
       "2   Now, most of the demonstrators gathered last ...      1  \n",
       "3  A dozen politically active pastors came here f...      0  \n",
       "4  The RS-28 Sarmat missile, dubbed Satan 2, will...      1  "
      ]
     },
     "execution_count": 3,
     "metadata": {},
     "output_type": "execute_result"
    }
   ],
   "source": [
    "import pandas as pd\n",
    "df = pd.read_csv('news_data.csv')\n",
    "df.head()\n"
   ]
  },
  {
   "cell_type": "code",
   "execution_count": 4,
   "metadata": {},
   "outputs": [
    {
     "name": "stdout",
     "output_type": "stream",
     "text": [
      "<class 'pandas.core.frame.DataFrame'>\n",
      "RangeIndex: 72134 entries, 0 to 72133\n",
      "Data columns (total 4 columns):\n",
      " #   Column      Non-Null Count  Dtype \n",
      "---  ------      --------------  ----- \n",
      " 0   Unnamed: 0  72134 non-null  int64 \n",
      " 1   title       71576 non-null  object\n",
      " 2   text        72095 non-null  object\n",
      " 3   label       72134 non-null  int64 \n",
      "dtypes: int64(2), object(2)\n",
      "memory usage: 2.2+ MB\n"
     ]
    },
    {
     "data": {
      "text/plain": [
       "Index(['Unnamed: 0', 'title', 'text', 'label'], dtype='object')"
      ]
     },
     "execution_count": 4,
     "metadata": {},
     "output_type": "execute_result"
    }
   ],
   "source": [
    "df.info()\n",
    "df.isnull().sum()\n",
    "df.describe()\n",
    "df.columns\n"
   ]
  },
  {
   "cell_type": "code",
   "execution_count": 5,
   "metadata": {},
   "outputs": [],
   "source": [
    "#removing duds\n",
    "\n",
    "df = df.dropna()\n",
    "df = df.drop(columns=['Unnamed: 0'])\n",
    "df['label'] = pd.to_numeric(df['label'], errors='coerce')\n",
    "df.head()\n",
    "df = df.drop_duplicates()\n",
    "df = df.dropna(subset=['text', 'title'])\n"
   ]
  },
  {
   "cell_type": "code",
   "execution_count": 6,
   "metadata": {},
   "outputs": [],
   "source": [
    "#some regex cleaning\n",
    "\n",
    "import re\n",
    "\n",
    "def cleanup(text):\n",
    "    if pd.isna(text):\n",
    "        return \"\"\n",
    "    text = text.strip()  \n",
    "    #remove any web urls\n",
    "    text = re.sub(r'http\\S+|www\\S+|https\\S+', '', text, flags=re.MULTILINE) \n",
    "    #remove email addresses\n",
    "    text = re.sub(r'\\b\\w+@\\w+\\.\\w+\\b', '', text)  \n",
    "    #get rid of any duplicate spacing\n",
    "    text = re.sub(r'\\s+', ' ', text)  \n",
    "    #get rid of punctuaation\n",
    "    text = re.sub(r'[^\\w\\s]', '', text) \n",
    "    #lowercase all text\n",
    "    text = text.lower() \n",
    "    return text\n",
    "\n",
    "df['text'] = df['text'].apply(cleanup)\n",
    "df['title'] = df['title'].apply(cleanup)"
   ]
  },
  {
   "cell_type": "code",
   "execution_count": 7,
   "metadata": {},
   "outputs": [
    {
     "data": {
      "text/html": [
       "<div>\n",
       "<style scoped>\n",
       "    .dataframe tbody tr th:only-of-type {\n",
       "        vertical-align: middle;\n",
       "    }\n",
       "\n",
       "    .dataframe tbody tr th {\n",
       "        vertical-align: top;\n",
       "    }\n",
       "\n",
       "    .dataframe thead th {\n",
       "        text-align: right;\n",
       "    }\n",
       "</style>\n",
       "<table border=\"1\" class=\"dataframe\">\n",
       "  <thead>\n",
       "    <tr style=\"text-align: right;\">\n",
       "      <th></th>\n",
       "      <th>title</th>\n",
       "      <th>text</th>\n",
       "      <th>label</th>\n",
       "    </tr>\n",
       "  </thead>\n",
       "  <tbody>\n",
       "    <tr>\n",
       "      <th>0</th>\n",
       "      <td>law enforcement on high alert following threat...</td>\n",
       "      <td>no comment is expected from barack obama membe...</td>\n",
       "      <td>1</td>\n",
       "    </tr>\n",
       "    <tr>\n",
       "      <th>2</th>\n",
       "      <td>unbelievable obamas attorney general says most...</td>\n",
       "      <td>now most of the demonstrators gathered last ni...</td>\n",
       "      <td>1</td>\n",
       "    </tr>\n",
       "    <tr>\n",
       "      <th>3</th>\n",
       "      <td>bobby jindal raised hindu uses story of christ...</td>\n",
       "      <td>a dozen politically active pastors came here f...</td>\n",
       "      <td>0</td>\n",
       "    </tr>\n",
       "    <tr>\n",
       "      <th>4</th>\n",
       "      <td>satan 2 russia unvelis an image of its terrify...</td>\n",
       "      <td>the rs28 sarmat missile dubbed satan 2 will re...</td>\n",
       "      <td>1</td>\n",
       "    </tr>\n",
       "    <tr>\n",
       "      <th>5</th>\n",
       "      <td>about time christian group sues amazon and spl...</td>\n",
       "      <td>all we can say on this one is it s about time ...</td>\n",
       "      <td>1</td>\n",
       "    </tr>\n",
       "  </tbody>\n",
       "</table>\n",
       "</div>"
      ],
      "text/plain": [
       "                                               title  \\\n",
       "0  law enforcement on high alert following threat...   \n",
       "2  unbelievable obamas attorney general says most...   \n",
       "3  bobby jindal raised hindu uses story of christ...   \n",
       "4  satan 2 russia unvelis an image of its terrify...   \n",
       "5  about time christian group sues amazon and spl...   \n",
       "\n",
       "                                                text  label  \n",
       "0  no comment is expected from barack obama membe...      1  \n",
       "2  now most of the demonstrators gathered last ni...      1  \n",
       "3  a dozen politically active pastors came here f...      0  \n",
       "4  the rs28 sarmat missile dubbed satan 2 will re...      1  \n",
       "5  all we can say on this one is it s about time ...      1  "
      ]
     },
     "execution_count": 7,
     "metadata": {},
     "output_type": "execute_result"
    }
   ],
   "source": [
    "df.head()"
   ]
  },
  {
   "cell_type": "code",
   "execution_count": 8,
   "metadata": {},
   "outputs": [
    {
     "name": "stdout",
     "output_type": "stream",
     "text": [
      "Requirement already satisfied: nltk in /home/rachel/miniconda3/envs/xx-pytorch/lib/python3.11/site-packages (3.8.1)\n",
      "Requirement already satisfied: click in /home/rachel/miniconda3/envs/xx-pytorch/lib/python3.11/site-packages (from nltk) (8.1.7)\n",
      "Requirement already satisfied: joblib in /home/rachel/miniconda3/envs/xx-pytorch/lib/python3.11/site-packages (from nltk) (1.4.2)\n",
      "Requirement already satisfied: regex>=2021.8.3 in /home/rachel/miniconda3/envs/xx-pytorch/lib/python3.11/site-packages (from nltk) (2024.7.24)\n",
      "Requirement already satisfied: tqdm in /home/rachel/miniconda3/envs/xx-pytorch/lib/python3.11/site-packages (from nltk) (4.66.4)\n",
      "Note: you may need to restart the kernel to use updated packages.\n"
     ]
    }
   ],
   "source": [
    "%pip install nltk"
   ]
  },
  {
   "cell_type": "code",
   "execution_count": 9,
   "metadata": {},
   "outputs": [
    {
     "name": "stderr",
     "output_type": "stream",
     "text": [
      "[nltk_data] Downloading package stopwords to /home/rachel/nltk_data...\n",
      "[nltk_data]   Package stopwords is already up-to-date!\n"
     ]
    }
   ],
   "source": [
    "#removing any stop words\n",
    "\n",
    "import nltk\n",
    "from nltk.corpus import stopwords\n",
    "nltk.download('stopwords')\n",
    "\n",
    "stop_words = set(stopwords.words('english'))\n",
    "\n",
    "def remove_stop_words(text):\n",
    "    return ' '.join(word for word in text.split() if word not in stop_words)\n",
    "\n",
    "df['text'] = df['text'].apply(remove_stop_words)\n",
    "df['title'] = df['title'].apply(remove_stop_words)"
   ]
  },
  {
   "cell_type": "code",
   "execution_count": 10,
   "metadata": {},
   "outputs": [
    {
     "name": "stdout",
     "output_type": "stream",
     "text": [
      "{'out', 'd', 'for', 'then', 'again', 'couldn', 'an', 'her', 'll', 'what', 'own', 'by', 'about', 'myself', 'each', \"shouldn't\", 'in', 'm', \"it's\", 'until', 'doesn', 'i', 'themselves', 'this', 'me', \"you'll\", 'yours', 'these', 't', 'same', 'should', \"won't\", \"wasn't\", 'yourselves', 'which', 'and', 'you', 'most', \"isn't\", 'needn', 'whom', 'him', 'that', \"hadn't\", 'above', 'y', 'our', 'not', 'such', 'their', 'how', 'they', 'did', 'your', 'weren', 'shan', 'who', 'didn', 'now', 're', \"didn't\", 'is', 'both', 'have', 'before', 'all', 'haven', \"mustn't\", 'of', 'some', 'ours', 'there', 'just', 'his', 'had', \"doesn't\", 'my', \"shan't\", 'won', 'has', 'isn', 'other', 'ourselves', 'nor', 'from', 'ma', 'wouldn', 'below', 'with', \"she's\", 's', \"should've\", 'as', 'herself', 'than', 'she', 'few', 'doing', \"couldn't\", 'off', 'been', 'down', 'at', 'into', 'against', 'we', 'its', 'will', 'am', 'wasn', 'here', \"haven't\", 'are', 'or', 'once', 'no', 'only', \"hasn't\", 'the', 'hadn', 'can', \"needn't\", 'over', \"weren't\", 'so', 'aren', \"you'd\", 'too', 'very', 'be', 'because', 'if', 'itself', 'shouldn', 'to', 'do', \"you've\", 'when', 'were', \"wouldn't\", 'ain', 'up', \"you're\", 'don', 'where', 'any', 'mightn', 'through', 'under', 'a', 've', 'o', 'on', 'does', 'during', 'was', 'more', 'between', 'hers', 'after', 'theirs', 'he', \"aren't\", \"mightn't\", 'while', \"don't\", 'himself', 'having', 'yourself', 'mustn', 'why', 'them', 'but', 'it', 'being', 'those', 'hasn', \"that'll\", 'further'}\n"
     ]
    }
   ],
   "source": [
    "print(stop_words)"
   ]
  },
  {
   "cell_type": "code",
   "execution_count": 11,
   "metadata": {},
   "outputs": [
    {
     "name": "stdout",
     "output_type": "stream",
     "text": [
      "                                                   title  \\\n",
      "0      law enforcement high alert following threats c...   \n",
      "2      unbelievable obamas attorney general says char...   \n",
      "3      bobby jindal raised hindu uses story christian...   \n",
      "4      satan 2 russia unvelis image terrifying new su...   \n",
      "5      time christian group sues amazon splc designat...   \n",
      "...                                                  ...   \n",
      "72127  wikileaks email shows clinton foundation funds...   \n",
      "72129  russians steal research trump hack us democrat...   \n",
      "72130  watch giuliani demands democrats apologize tru...   \n",
      "72131   migrants refuse leave train refugee camp hungary   \n",
      "72132  trump tussle gives unpopular mexican leader mu...   \n",
      "\n",
      "                                                    text  label  \n",
      "0      comment expected barack obama members fyf911 f...      1  \n",
      "2      demonstrators gathered last night exercising c...      1  \n",
      "3      dozen politically active pastors came private ...      0  \n",
      "4      rs28 sarmat missile dubbed satan 2 replace ss1...      1  \n",
      "5      say one time someone sued southern poverty law...      1  \n",
      "...                                                  ...    ...  \n",
      "72127  email released wikileaks sunday appears show f...      1  \n",
      "72129  washington reuters hackers believed working ru...      0  \n",
      "72130  know fantasyland republicans never questioned ...      1  \n",
      "72131  migrants refuse leave train refugee camp hunga...      0  \n",
      "72132  mexico city reuters donald trumps combative st...      0  \n",
      "\n",
      "[63121 rows x 3 columns]\n"
     ]
    }
   ],
   "source": [
    "print(df)"
   ]
  },
  {
   "cell_type": "code",
   "execution_count": 12,
   "metadata": {},
   "outputs": [
    {
     "data": {
      "text/html": [
       "<div>\n",
       "<style scoped>\n",
       "    .dataframe tbody tr th:only-of-type {\n",
       "        vertical-align: middle;\n",
       "    }\n",
       "\n",
       "    .dataframe tbody tr th {\n",
       "        vertical-align: top;\n",
       "    }\n",
       "\n",
       "    .dataframe thead th {\n",
       "        text-align: right;\n",
       "    }\n",
       "</style>\n",
       "<table border=\"1\" class=\"dataframe\">\n",
       "  <thead>\n",
       "    <tr style=\"text-align: right;\">\n",
       "      <th></th>\n",
       "      <th>title</th>\n",
       "      <th>text</th>\n",
       "      <th>label</th>\n",
       "    </tr>\n",
       "  </thead>\n",
       "  <tbody>\n",
       "    <tr>\n",
       "      <th>0</th>\n",
       "      <td>law enforcement high alert follow threat cop w...</td>\n",
       "      <td>comment expect barack obama member fyf911 fuky...</td>\n",
       "      <td>1</td>\n",
       "    </tr>\n",
       "    <tr>\n",
       "      <th>2</th>\n",
       "      <td>unbelievable obamas attorney general say charl...</td>\n",
       "      <td>demonstrator gather last night exercise consti...</td>\n",
       "      <td>1</td>\n",
       "    </tr>\n",
       "    <tr>\n",
       "      <th>3</th>\n",
       "      <td>bobby jindal raise hindu us story christian co...</td>\n",
       "      <td>dozen politically active pastor come private d...</td>\n",
       "      <td>0</td>\n",
       "    </tr>\n",
       "    <tr>\n",
       "      <th>4</th>\n",
       "      <td>satan 2 russia unvelis image terrify new super...</td>\n",
       "      <td>rs28 sarmat missile dub satan 2 replace ss18 f...</td>\n",
       "      <td>1</td>\n",
       "    </tr>\n",
       "    <tr>\n",
       "      <th>5</th>\n",
       "      <td>time christian group sue amazon splc designati...</td>\n",
       "      <td>say one time someone sue southern poverty law ...</td>\n",
       "      <td>1</td>\n",
       "    </tr>\n",
       "  </tbody>\n",
       "</table>\n",
       "</div>"
      ],
      "text/plain": [
       "                                               title  \\\n",
       "0  law enforcement high alert follow threat cop w...   \n",
       "2  unbelievable obamas attorney general say charl...   \n",
       "3  bobby jindal raise hindu us story christian co...   \n",
       "4  satan 2 russia unvelis image terrify new super...   \n",
       "5  time christian group sue amazon splc designati...   \n",
       "\n",
       "                                                text  label  \n",
       "0  comment expect barack obama member fyf911 fuky...      1  \n",
       "2  demonstrator gather last night exercise consti...      1  \n",
       "3  dozen politically active pastor come private d...      0  \n",
       "4  rs28 sarmat missile dub satan 2 replace ss18 f...      1  \n",
       "5  say one time someone sue southern poverty law ...      1  "
      ]
     },
     "execution_count": 12,
     "metadata": {},
     "output_type": "execute_result"
    }
   ],
   "source": [
    "#tokenizing and lemmatizing the text with POS (took around 6 mins to run)\n",
    "\n",
    "from nltk.stem import WordNetLemmatizer\n",
    "from nltk.tokenize import word_tokenize\n",
    "from nltk import pos_tag\n",
    "\n",
    "lemmatizer = WordNetLemmatizer()\n",
    "\n",
    "def wordnet_pos(treebank_tag):\n",
    "    if treebank_tag.startswith('J'):\n",
    "        return 'a'\n",
    "    elif treebank_tag.startswith('V'):\n",
    "        return 'v' \n",
    "    elif treebank_tag.startswith('N'):\n",
    "        return 'n' \n",
    "    elif treebank_tag.startswith('R'):\n",
    "        return 'r'  \n",
    "    else:\n",
    "        return 'n'  \n",
    "\n",
    "def pos_lemmatize(text):\n",
    "    tokens = word_tokenize(text)\n",
    "    pos_tags = pos_tag(tokens)\n",
    "    lemmatized_tokens = [lemmatizer.lemmatize(token, wordnet_pos(tag)) for token, tag in pos_tags]\n",
    "    return ' '.join(lemmatized_tokens)\n",
    "\n",
    "df['text'] = df['text'].apply(lambda x: pos_lemmatize(str(x)))\n",
    "df['title'] = df['title'].apply(lambda x: pos_lemmatize(str(x)))\n",
    "\n",
    "df.head()"
   ]
  },
  {
   "cell_type": "code",
   "execution_count": 20,
   "metadata": {},
   "outputs": [
    {
     "name": "stdout",
     "output_type": "stream",
     "text": [
      "Requirement already satisfied: scikit-learn in /home/rachel/miniconda3/envs/xx-pytorch/lib/python3.11/site-packages (1.5.1)\n",
      "Requirement already satisfied: numpy>=1.19.5 in /home/rachel/miniconda3/envs/xx-pytorch/lib/python3.11/site-packages (from scikit-learn) (1.26.4)\n",
      "Requirement already satisfied: scipy>=1.6.0 in /home/rachel/miniconda3/envs/xx-pytorch/lib/python3.11/site-packages (from scikit-learn) (1.14.0)\n",
      "Requirement already satisfied: joblib>=1.2.0 in /home/rachel/miniconda3/envs/xx-pytorch/lib/python3.11/site-packages (from scikit-learn) (1.4.2)\n",
      "Requirement already satisfied: threadpoolctl>=3.1.0 in /home/rachel/miniconda3/envs/xx-pytorch/lib/python3.11/site-packages (from scikit-learn) (3.5.0)\n",
      "Note: you may need to restart the kernel to use updated packages.\n",
      "6183     hurray riff raffs alynda segarra find concept ...\n",
      "60285    brooklyn mother three doesnt work shes proudly...\n",
      "51211    barbarian gate muslim morocco keep breaking sp...\n",
      "45217    jezebel mike penny twitchycom steven superaiel...\n",
      "25090    corinthian college must pay student 1 billion ...\n",
      "                               ...                        \n",
      "71433    half briton want stay eu poll edinburgh reuter...\n",
      "41294    bill hillary clinton inc sale right price spec...\n",
      "869      orlando gunman shoot least 8 time autopsy find...\n",
      "16332    lethal gap supreme court handle death penalty ...\n",
      "63490    poll show world overwhelmingly love president ...\n",
      "Name: combined, Length: 44184, dtype: object\n"
     ]
    }
   ],
   "source": [
    "#split the data up into train, val, and test\n",
    "\n",
    "%pip install scikit-learn\n",
    "import sklearn\n",
    "from sklearn.model_selection import train_test_split\n",
    "\n",
    "#combining the title with the text of article\n",
    "df['combined'] = df['title'].fillna('') + ' ' + df['text'].fillna('')\n",
    "\n",
    "X = df['combined']  \n",
    "y = df['label']  \n",
    "\n",
    "#training data\n",
    "X_train, X_temp, y_train, y_temp = train_test_split(X, y, test_size=0.3, random_state=42)\n",
    "\n",
    "#rest is validation and testing\n",
    "X_val, X_test, y_val, y_test = train_test_split(X_temp, y_temp, test_size=0.5, random_state=42)\n",
    "\n",
    "print(X_train)"
   ]
  },
  {
   "cell_type": "code",
   "execution_count": 22,
   "metadata": {},
   "outputs": [],
   "source": [
    "from sklearn.feature_extraction.text import TfidfVectorizer\n",
    "\n",
    "vectorizer = TfidfVectorizer()\n",
    "\n",
    "#training data will create a vocabulary\n",
    "vectorizer.fit(X_train)\n",
    "\n",
    "training_text_vector = vectorizer.transform(X_train)\n",
    "validation_text_vector = vectorizer.transform(X_val)\n",
    "test_text_vector = vectorizer.transform(X_test)"
   ]
  },
  {
   "cell_type": "code",
   "execution_count": 32,
   "metadata": {},
   "outputs": [],
   "source": [
    "import torch\n",
    "from scipy.sparse import csr_matrix\n",
    "\n",
    "#need to use sparse matrix because the dense versions take too much memory\n",
    "\n",
    "def matrix_to_sparse_tensor(matrix):\n",
    "    coo = matrix.tocoo()\n",
    "    indices = torch.tensor([coo.row, coo.col], dtype=torch.long)\n",
    "    values = torch.tensor(coo.data, dtype=torch.float32)\n",
    "    size = torch.Size(coo.shape)\n",
    "    \n",
    "    return torch.sparse_coo_tensor(indices, values, size)\n",
    "\n",
    "train_feature_tensor = matrix_to_sparse_tensor(training_text_vector)\n",
    "val_feature_tensor = matrix_to_sparse_tensor(validation_text_vector)\n",
    "test_feature_tensor = matrix_to_sparse_tensor(test_text_vector)\n",
    "\n",
    "\n"
   ]
  },
  {
   "cell_type": "code",
   "execution_count": 33,
   "metadata": {},
   "outputs": [],
   "source": [
    "train_label_tensor = torch.tensor(y_train.values, dtype=torch.long)\n",
    "val_label_tensor = torch.tensor(y_val.values, dtype=torch.long)\n",
    "test_label_tensor = torch.tensor(y_test.values, dtype=torch.long)\n"
   ]
  },
  {
   "cell_type": "code",
   "execution_count": 34,
   "metadata": {},
   "outputs": [
    {
     "name": "stdout",
     "output_type": "stream",
     "text": [
      "torch.Size([44184, 291416])\n",
      "torch.Size([9468, 291416])\n",
      "torch.Size([9469, 291416])\n",
      "tensor(indices=tensor([[     0,      0,      0,  ...,  44183,  44183,  44183],\n",
      "                       [  3773,   4103,   4597,  ..., 266784, 268234, 268804]]),\n",
      "       values=tensor([0.0283, 0.0278, 0.0133,  ..., 0.0683, 0.0384, 0.0313]),\n",
      "       size=(44184, 291416), nnz=8879963, layout=torch.sparse_coo)\n"
     ]
    }
   ],
   "source": [
    "print(train_feature_tensor.shape)\n",
    "print(val_feature_tensor.shape)\n",
    "print(test_feature_tensor.shape)\n",
    "print(train_feature_tensor)\n"
   ]
  }
 ],
 "metadata": {
  "kernelspec": {
   "display_name": "xx-pytorch",
   "language": "python",
   "name": "python3"
  },
  "language_info": {
   "codemirror_mode": {
    "name": "ipython",
    "version": 3
   },
   "file_extension": ".py",
   "mimetype": "text/x-python",
   "name": "python",
   "nbconvert_exporter": "python",
   "pygments_lexer": "ipython3",
   "version": "3.11.9"
  }
 },
 "nbformat": 4,
 "nbformat_minor": 2
}
